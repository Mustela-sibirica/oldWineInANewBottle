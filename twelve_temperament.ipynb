{
 "cells": [
  {
   "cell_type": "markdown",
   "metadata": {},
   "source": [
    "## 产生十二平均律标准长度"
   ]
  },
  {
   "cell_type": "code",
   "execution_count": 1,
   "metadata": {},
   "outputs": [],
   "source": [
    "import matplotlib.pyplot as plt\n",
    "import numpy as np"
   ]
  },
  {
   "cell_type": "code",
   "execution_count": 2,
   "metadata": {},
   "outputs": [],
   "source": [
    "def format(INPUT):\n",
    "    for i in range(len(INPUT)):\n",
    "        if INPUT[i] > 81:\n",
    "            INPUT[i] = 0\n",
    "        if INPUT[i] < (81/2 - 1):\n",
    "            INPUT[i] = 0\n",
    "        INPUT[i] =  round(INPUT[i], 2)\n",
    "    OUTPUT = list(set(INPUT))\n",
    "    OUTPUT.sort()\n",
    "    if OUTPUT[0] < (81/2 - 1):\n",
    "        OUTPUT.pop(0)\n",
    "    return OUTPUT"
   ]
  },
  {
   "cell_type": "code",
   "execution_count": 3,
   "metadata": {},
   "outputs": [],
   "source": [
    "interval_equal = pow(2,1/12)\n",
    "initiate = 81\n",
    "equal_temperament = []\n",
    "for i in range(12 + 1):\n",
    "       equal_temperament.append(initiate * pow(interval_equal,(i - 12)))"
   ]
  },
  {
   "cell_type": "code",
   "execution_count": 4,
   "metadata": {},
   "outputs": [],
   "source": [
    "equal_temperament = format(equal_temperament)"
   ]
  },
  {
   "cell_type": "markdown",
   "metadata": {},
   "source": [
    "## 产生范围内十二律候选长度"
   ]
  },
  {
   "cell_type": "code",
   "execution_count": 5,
   "metadata": {},
   "outputs": [],
   "source": [
    "interval_12_temperament = 1/3\n",
    "initiate = 81\n",
    "twelve_temperament_temp = [81]\n",
    "for i in range(12 + 1):\n",
    "    for j in twelve_temperament_temp:\n",
    "        twelve_temperament_temp.append(j * (1 + interval_12_temperament))\n",
    "        twelve_temperament_temp.append(j * (1 - interval_12_temperament))                              \n",
    "        twelve_temperament_temp = list(set(twelve_temperament_temp))"
   ]
  },
  {
   "cell_type": "code",
   "execution_count": 6,
   "metadata": {},
   "outputs": [],
   "source": [
    "twelve_temperament = format(twelve_temperament_temp)"
   ]
  },
  {
   "cell_type": "code",
   "execution_count": 7,
   "metadata": {},
   "outputs": [
    {
     "data": {
      "text/plain": [
       "[40.5,\n",
       " 42.91,\n",
       " 45.46,\n",
       " 48.16,\n",
       " 51.03,\n",
       " 54.06,\n",
       " 57.28,\n",
       " 60.68,\n",
       " 64.29,\n",
       " 68.11,\n",
       " 72.16,\n",
       " 76.45,\n",
       " 81.0]"
      ]
     },
     "execution_count": 7,
     "metadata": {},
     "output_type": "execute_result"
    }
   ],
   "source": [
    "equal_temperament"
   ]
  },
  {
   "cell_type": "code",
   "execution_count": 8,
   "metadata": {},
   "outputs": [
    {
     "data": {
      "text/plain": [
       "[39.95,\n",
       " 42.67,\n",
       " 44.95,\n",
       " 47.35,\n",
       " 48.0,\n",
       " 50.57,\n",
       " 53.27,\n",
       " 54.0,\n",
       " 56.89,\n",
       " 59.93,\n",
       " 64.0,\n",
       " 67.42,\n",
       " 71.03,\n",
       " 72.0,\n",
       " 75.85,\n",
       " 79.91,\n",
       " 81]"
      ]
     },
     "execution_count": 8,
     "metadata": {},
     "output_type": "execute_result"
    }
   ],
   "source": [
    "twelve_temperament"
   ]
  },
  {
   "cell_type": "markdown",
   "metadata": {},
   "source": [
    "## 作图比较"
   ]
  },
  {
   "cell_type": "code",
   "execution_count": 9,
   "metadata": {},
   "outputs": [
    {
     "data": {
      "image/png": "[encoded data removed]",
      "text/plain": [
       "<matplotlib.figure.Figure at 0x1dfe15e1630>"
      ]
     },
     "metadata": {},
     "output_type": "display_data"
    }
   ],
   "source": [
    "fig = plt.figure()\n",
    "y_twelve_temperament = [0] * len(twelve_temperament)\n",
    "plt.vlines(equal_temperament, 0, 1, colors = \"r\", linestyles = \"dashed\")\n",
    "plt.scatter(twelve_temperament, y_twelve_temperament)\n",
    "plt.show()\n",
    "plt.show()"
   ]
  },
  {
   "cell_type": "markdown",
   "metadata": {},
   "source": [
    "### 该方法运用了两个相似：\n",
    "\n",
    "**1. 六度音程（五个间隔）倍数近似4/3**\n",
    "\n",
    "**2. 八度音程（七个间隔）倍数近似2/3**\n",
    "\n",
    "这样，乘以4/3升五度音程，乘以3/4降五度音程；\n",
    "\n",
    "乘以3/2升七度音程，乘以2/3降七度音程；"
   ]
  },
  {
   "cell_type": "code",
   "execution_count": 10,
   "metadata": {},
   "outputs": [
    {
     "name": "stdout",
     "output_type": "stream",
     "text": [
      "C : 1.0\n",
      "B : 0.9438743126816935\n",
      "A♯: 0.8908987181403393\n",
      "A : 0.8408964152537145\n",
      "G♯: 0.7937005259840998\n",
      "G : 0.7491535384383408\n",
      "F♯: 0.7071067811865476\n",
      "F : 0.6674199270850172\n",
      "E : 0.6299605249474366\n",
      "D♯: 0.5946035575013605\n",
      "D : 0.5612310241546865\n",
      "C♯: 0.5297315471796477\n",
      "C : 0.5\n"
     ]
    }
   ],
   "source": [
    "temperament = [\"C \", \"C♯\", \"D \", \"D♯\", \"E \", \"F \", \"F♯\", \"G \", \"G♯\", \"A \", \"A♯\", \"B \", \"C \"]\n",
    "for i in range(13):\n",
    "    \n",
    "    print(temperament[-i-1] + \": \" + str(pow(2,-i/12)))"
   ]
  },
  {
   "cell_type": "code",
   "execution_count": 11,
   "metadata": {},
   "outputs": [
    {
     "data": {
      "text/plain": [
       "0.75"
      ]
     },
     "execution_count": 11,
     "metadata": {},
     "output_type": "execute_result"
    }
   ],
   "source": [
    "3/4"
   ]
  },
  {
   "cell_type": "code",
   "execution_count": 12,
   "metadata": {},
   "outputs": [
    {
     "data": {
      "text/plain": [
       "0.6666666666666666"
      ]
     },
     "execution_count": 12,
     "metadata": {},
     "output_type": "execute_result"
    }
   ],
   "source": [
    "2/3"
   ]
  },
  {
   "cell_type": "markdown",
   "metadata": {},
   "source": [
    "![三分损益法](https://raw.githubusercontent.com/Mustela-sibirica/oldWineInANewBottle/master/twelve_temperament.jpg)"
   ]
  },
  {
   "cell_type": "code",
   "execution_count": null,
   "metadata": {},
   "outputs": [],
   "source": []
  }
 ],
 "metadata": {
  "kernelspec": {
   "display_name": "Python (keras)",
   "language": "python",
   "name": "keras"
  },
  "language_info": {
   "codemirror_mode": {
    "name": "ipython",
    "version": 3
   },
   "file_extension": ".py",
   "mimetype": "text/x-python",
   "name": "python",
   "nbconvert_exporter": "python",
   "pygments_lexer": "ipython3",
   "version": "3.6.4"
  }
 },
 "nbformat": 4,
 "nbformat_minor": 2
}
